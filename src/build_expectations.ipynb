{
 "cells": [
  {
   "cell_type": "markdown",
   "id": "b9fb035d",
   "metadata": {},
   "source": [
    "# Create your expectations suite\n",
    "This notebook will guide you through the process of creating your expectation suite in the easiest way possible."
   ]
  },
  {
   "cell_type": "code",
   "execution_count": null,
   "id": "8b56f54b",
   "metadata": {},
   "outputs": [],
   "source": [
    "import os\n",
    "import great_expectations as ge\n",
    "from Notion.NotionAPI import NotionAPI"
   ]
  },
  {
   "cell_type": "markdown",
   "id": "43a0901d",
   "metadata": {},
   "source": [
    "## Step 1: Setup\n",
    "1. Add the Notion database url \"https://www...\" for which you will be creating an expectation suite in 'dbid. Follow step 3.1 in the README.md to get this.\n",
    "2. Edit variable expectation_suite_name with a name of your choice"
   ]
  },
  {
   "cell_type": "code",
   "execution_count": null,
   "id": "6c64e7dc",
   "metadata": {},
   "outputs": [],
   "source": [
    "dbid = \"https://www.notion.so/29965940ff704020b78b7ec20dc063c6?v=f7f9dce03b6447278ebb7b2453143c43\"\n",
    "expectation_suite_name = \"example_3_columns_and_2_languages\""
   ]
  },
  {
   "cell_type": "markdown",
   "id": "b1261dc6",
   "metadata": {},
   "source": [
    "## Step 2: Load NOTION_API_KEY and query Notion for the db\n",
    "For this step, you only need to make sure to have your Notion api key as an environment variable called \"NOTION_API_KEY\""
   ]
  },
  {
   "cell_type": "code",
   "execution_count": null,
   "id": "ac82fa03",
   "metadata": {},
   "outputs": [],
   "source": [
    "NOTION_API_KEY = os.environ.get(\"NOTION_API_KEY\")\n",
    "notion = NotionAPI(NOTION_API_KEY)\n",
    "notion_df = notion.query_db(dbid, return_type=\"dataframe\")\n",
    "context = ge.get_context()\n",
    "df = ge.from_pandas(notion_df)"
   ]
  },
  {
   "cell_type": "markdown",
   "id": "2a7f6652",
   "metadata": {},
   "source": [
    "## Step 2.1 (Optional): Explore your dataframe"
   ]
  },
  {
   "cell_type": "code",
   "execution_count": null,
   "id": "e17615ec",
   "metadata": {},
   "outputs": [],
   "source": [
    "df.head(5)"
   ]
  },
  {
   "cell_type": "markdown",
   "id": "7888a298",
   "metadata": {},
   "source": [
    "## Step 3: Dynamically create your expectations\n",
    "Here you can build and run your expectations, while dynamically running them.\n",
    "Feel free to add new cells here.\n",
    "Find a list of expectations here: https://docs.greatexpectations.io/docs/reference/glossary_of_expectations"
   ]
  },
  {
   "cell_type": "code",
   "execution_count": null,
   "id": "e285372d",
   "metadata": {},
   "outputs": [],
   "source": [
    "# Column expectations\n",
    "df.expect_column_values_to_not_be_null('Name')\n",
    "df.expect_column_values_to_not_be_null('Phone')\n",
    "df.expect_column_values_to_not_be_null('Languages')"
   ]
  },
  {
   "cell_type": "markdown",
   "id": "5ef42a26",
   "metadata": {},
   "source": [
    "## For list objects, a workaround is to use Regex expressions to count the number of commas.\n",
    "Also note that it is possible to add comments to your expectations (this will appear in Data Docs)"
   ]
  },
  {
   "cell_type": "code",
   "execution_count": null,
   "id": "2264b45b",
   "metadata": {},
   "outputs": [],
   "source": [
    "df.expect_column_values_to_match_regex('Languages', \n",
    "                                       r'(?:.+\\,){1,}.+',\n",
    "                                      meta={\"notes\": \"At least 2 or more entries. Using Regex\"})"
   ]
  },
  {
   "cell_type": "markdown",
   "id": "1ed94f11",
   "metadata": {},
   "source": [
    "## Step 4: Save your expectation suite\n",
    "Once you are happy with the expectations you've created above, run the cell below to store them.\n",
    "This will create a file with the name you chose under the folder great_expectations/expectations/ where Great Expectations' context can find it."
   ]
  },
  {
   "cell_type": "code",
   "execution_count": null,
   "id": "a7c46356",
   "metadata": {},
   "outputs": [],
   "source": [
    "context.save_expectation_suite(discard_failed_expectations=False,\n",
    "                          expectation_suite = df._expectation_suite,\n",
    "                          expectation_suite_name = expectation_suite_name)"
   ]
  }
 ],
 "metadata": {
  "kernelspec": {
   "display_name": "Python 3 (ipykernel)",
   "language": "python",
   "name": "python3"
  },
  "language_info": {
   "codemirror_mode": {
    "name": "ipython",
    "version": 3
   },
   "file_extension": ".py",
   "mimetype": "text/x-python",
   "name": "python",
   "nbconvert_exporter": "python",
   "pygments_lexer": "ipython3",
   "version": "3.9.7"
  }
 },
 "nbformat": 4,
 "nbformat_minor": 5
}
